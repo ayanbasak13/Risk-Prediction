{
 "cells": [
  {
   "cell_type": "code",
   "execution_count": 1,
   "metadata": {},
   "outputs": [],
   "source": [
    "import numpy as np\n",
    "import pandas as pd\n",
    "from datetime import date\n",
    "\n",
    "\n",
    "from sklearn.preprocessing import StandardScaler\n",
    "from sklearn.model_selection import train_test_split"
   ]
  },
  {
   "cell_type": "code",
   "execution_count": 2,
   "metadata": {},
   "outputs": [],
   "source": [
    "train = pd.read_csv(\"train.csv\")\n",
    "test = pd.read_csv(\"test_bqCt9Pv.csv\")"
   ]
  },
  {
   "cell_type": "code",
   "execution_count": 3,
   "metadata": {},
   "outputs": [],
   "source": [
    "def convert_to_months(duration) :\n",
    "    s = str(duration)\n",
    "    s = s.replace('yrs','')\n",
    "    s = s.replace('mon','')\n",
    "    \n",
    "    a = s.split(\" \")[0]\n",
    "    b = s.split(\" \")[1]\n",
    "    a = int(a)\n",
    "    b = int(b)\n",
    "    \n",
    "    k = (12*a) + b\n",
    "    \n",
    "    return k"
   ]
  },
  {
   "cell_type": "code",
   "execution_count": 4,
   "metadata": {},
   "outputs": [],
   "source": [
    "train[\"AVERAGE.ACCT.AGE\"] = train[\"AVERAGE.ACCT.AGE\"].apply(convert_to_months)\n",
    "train[\"CREDIT.HISTORY.LENGTH\"] = train[\"CREDIT.HISTORY.LENGTH\"].apply(convert_to_months)\n",
    "\n",
    "test[\"AVERAGE.ACCT.AGE\"] = test[\"AVERAGE.ACCT.AGE\"].apply(convert_to_months)\n",
    "test[\"CREDIT.HISTORY.LENGTH\"] = test[\"CREDIT.HISTORY.LENGTH\"].apply(convert_to_months)"
   ]
  },
  {
   "cell_type": "code",
   "execution_count": 5,
   "metadata": {},
   "outputs": [
    {
     "data": {
      "text/plain": [
       "Employment.Type    7661\n",
       "dtype: int64"
      ]
     },
     "execution_count": 5,
     "metadata": {},
     "output_type": "execute_result"
    }
   ],
   "source": [
    "null_value_stats = train.isnull().sum(axis=0)\n",
    "null_value_stats[null_value_stats != 0]"
   ]
  },
  {
   "cell_type": "code",
   "execution_count": 6,
   "metadata": {},
   "outputs": [],
   "source": [
    "train.fillna('a', inplace=True)"
   ]
  },
  {
   "cell_type": "code",
   "execution_count": 7,
   "metadata": {},
   "outputs": [
    {
     "data": {
      "text/plain": [
       "Series([], dtype: int64)"
      ]
     },
     "execution_count": 7,
     "metadata": {},
     "output_type": "execute_result"
    }
   ],
   "source": [
    "null_value_stats = train.isnull().sum(axis=0)\n",
    "null_value_stats[null_value_stats != 0]"
   ]
  },
  {
   "cell_type": "code",
   "execution_count": 8,
   "metadata": {},
   "outputs": [
    {
     "data": {
      "text/plain": [
       "Employment.Type    3443\n",
       "dtype: int64"
      ]
     },
     "execution_count": 8,
     "metadata": {},
     "output_type": "execute_result"
    }
   ],
   "source": [
    "null_value_stats = test.isnull().sum(axis=0)\n",
    "null_value_stats[null_value_stats != 0]"
   ]
  },
  {
   "cell_type": "code",
   "execution_count": 9,
   "metadata": {},
   "outputs": [],
   "source": [
    "test.fillna('a', inplace=True)"
   ]
  },
  {
   "cell_type": "code",
   "execution_count": 10,
   "metadata": {},
   "outputs": [
    {
     "data": {
      "text/plain": [
       "Series([], dtype: int64)"
      ]
     },
     "execution_count": 10,
     "metadata": {},
     "output_type": "execute_result"
    }
   ],
   "source": [
    "null_value_stats = test.isnull().sum(axis=0)\n",
    "null_value_stats[null_value_stats != 0]"
   ]
  },
  {
   "cell_type": "code",
   "execution_count": 11,
   "metadata": {},
   "outputs": [],
   "source": [
    "def day_cnt(d) :\n",
    "    #print(type(d))\n",
    "    k = d.split('-')\n",
    "    #print(k)\n",
    "    #print(type(k[2]))\n",
    "    if(k[2] in ['00','01','02','03','04','05','06','07','08','09','10','11','12','13','14','15','16','17','18']) :\n",
    "        v = str(20) + k[2]\n",
    "        #print(v)\n",
    "    else :\n",
    "        v = str(19) + k[2]\n",
    "    d0 = date(int(v),int(k[1]),int(k[0]))\n",
    "    d1 = date(2019,4,18)\n",
    "    \n",
    "    return ((d1 - d0) / 30)"
   ]
  },
  {
   "cell_type": "code",
   "execution_count": 12,
   "metadata": {},
   "outputs": [],
   "source": [
    "train[\"Date.of.Birth\"] = train[\"Date.of.Birth\"].apply(day_cnt)\n",
    "train[\"DisbursalDate\"] = train[\"DisbursalDate\"].apply(day_cnt)\n",
    "\n",
    "test[\"Date.of.Birth\"] = test[\"Date.of.Birth\"].apply(day_cnt)\n",
    "test[\"DisbursalDate\"] = test[\"DisbursalDate\"].apply(day_cnt)"
   ]
  },
  {
   "cell_type": "code",
   "execution_count": 13,
   "metadata": {},
   "outputs": [],
   "source": [
    "def delta_to_int(d1) :\n",
    "    p = str(d1)\n",
    "    l = p.split(' ')[0]\n",
    "    \n",
    "    return int(l)"
   ]
  },
  {
   "cell_type": "code",
   "execution_count": 14,
   "metadata": {},
   "outputs": [],
   "source": [
    "train[\"Date.of.Birth\"] = train[\"Date.of.Birth\"].apply(delta_to_int)\n",
    "train[\"DisbursalDate\"] = train[\"DisbursalDate\"].apply(delta_to_int)\n",
    "\n",
    "test[\"Date.of.Birth\"] = test[\"Date.of.Birth\"].apply(delta_to_int)\n",
    "test[\"DisbursalDate\"] = test[\"DisbursalDate\"].apply(delta_to_int)"
   ]
  },
  {
   "cell_type": "code",
   "execution_count": 15,
   "metadata": {},
   "outputs": [
    {
     "data": {
      "text/html": [
       "<div>\n",
       "<style scoped>\n",
       "    .dataframe tbody tr th:only-of-type {\n",
       "        vertical-align: middle;\n",
       "    }\n",
       "\n",
       "    .dataframe tbody tr th {\n",
       "        vertical-align: top;\n",
       "    }\n",
       "\n",
       "    .dataframe thead th {\n",
       "        text-align: right;\n",
       "    }\n",
       "</style>\n",
       "<table border=\"1\" class=\"dataframe\">\n",
       "  <thead>\n",
       "    <tr style=\"text-align: right;\">\n",
       "      <th></th>\n",
       "      <th>UniqueID</th>\n",
       "      <th>disbursed_amount</th>\n",
       "      <th>asset_cost</th>\n",
       "      <th>ltv</th>\n",
       "      <th>branch_id</th>\n",
       "      <th>supplier_id</th>\n",
       "      <th>manufacturer_id</th>\n",
       "      <th>Current_pincode_ID</th>\n",
       "      <th>Date.of.Birth</th>\n",
       "      <th>Employment.Type</th>\n",
       "      <th>...</th>\n",
       "      <th>SEC.SANCTIONED.AMOUNT</th>\n",
       "      <th>SEC.DISBURSED.AMOUNT</th>\n",
       "      <th>PRIMARY.INSTAL.AMT</th>\n",
       "      <th>SEC.INSTAL.AMT</th>\n",
       "      <th>NEW.ACCTS.IN.LAST.SIX.MONTHS</th>\n",
       "      <th>DELINQUENT.ACCTS.IN.LAST.SIX.MONTHS</th>\n",
       "      <th>AVERAGE.ACCT.AGE</th>\n",
       "      <th>CREDIT.HISTORY.LENGTH</th>\n",
       "      <th>NO.OF_INQUIRIES</th>\n",
       "      <th>loan_default</th>\n",
       "    </tr>\n",
       "  </thead>\n",
       "  <tbody>\n",
       "    <tr>\n",
       "      <th>0</th>\n",
       "      <td>420825</td>\n",
       "      <td>50578</td>\n",
       "      <td>58400</td>\n",
       "      <td>89.55</td>\n",
       "      <td>67</td>\n",
       "      <td>22807</td>\n",
       "      <td>45</td>\n",
       "      <td>1441</td>\n",
       "      <td>429</td>\n",
       "      <td>Salaried</td>\n",
       "      <td>...</td>\n",
       "      <td>0</td>\n",
       "      <td>0</td>\n",
       "      <td>0</td>\n",
       "      <td>0</td>\n",
       "      <td>0</td>\n",
       "      <td>0</td>\n",
       "      <td>0</td>\n",
       "      <td>0</td>\n",
       "      <td>0</td>\n",
       "      <td>0</td>\n",
       "    </tr>\n",
       "    <tr>\n",
       "      <th>1</th>\n",
       "      <td>537409</td>\n",
       "      <td>47145</td>\n",
       "      <td>65550</td>\n",
       "      <td>73.23</td>\n",
       "      <td>67</td>\n",
       "      <td>22807</td>\n",
       "      <td>45</td>\n",
       "      <td>1502</td>\n",
       "      <td>410</td>\n",
       "      <td>Self employed</td>\n",
       "      <td>...</td>\n",
       "      <td>0</td>\n",
       "      <td>0</td>\n",
       "      <td>1991</td>\n",
       "      <td>0</td>\n",
       "      <td>0</td>\n",
       "      <td>1</td>\n",
       "      <td>23</td>\n",
       "      <td>23</td>\n",
       "      <td>0</td>\n",
       "      <td>1</td>\n",
       "    </tr>\n",
       "    <tr>\n",
       "      <th>2</th>\n",
       "      <td>417566</td>\n",
       "      <td>53278</td>\n",
       "      <td>61360</td>\n",
       "      <td>89.63</td>\n",
       "      <td>67</td>\n",
       "      <td>22807</td>\n",
       "      <td>45</td>\n",
       "      <td>1497</td>\n",
       "      <td>409</td>\n",
       "      <td>Self employed</td>\n",
       "      <td>...</td>\n",
       "      <td>0</td>\n",
       "      <td>0</td>\n",
       "      <td>0</td>\n",
       "      <td>0</td>\n",
       "      <td>0</td>\n",
       "      <td>0</td>\n",
       "      <td>0</td>\n",
       "      <td>0</td>\n",
       "      <td>0</td>\n",
       "      <td>0</td>\n",
       "    </tr>\n",
       "    <tr>\n",
       "      <th>3</th>\n",
       "      <td>624493</td>\n",
       "      <td>57513</td>\n",
       "      <td>66113</td>\n",
       "      <td>88.48</td>\n",
       "      <td>67</td>\n",
       "      <td>22807</td>\n",
       "      <td>45</td>\n",
       "      <td>1501</td>\n",
       "      <td>308</td>\n",
       "      <td>Self employed</td>\n",
       "      <td>...</td>\n",
       "      <td>0</td>\n",
       "      <td>0</td>\n",
       "      <td>31</td>\n",
       "      <td>0</td>\n",
       "      <td>0</td>\n",
       "      <td>0</td>\n",
       "      <td>8</td>\n",
       "      <td>15</td>\n",
       "      <td>1</td>\n",
       "      <td>1</td>\n",
       "    </tr>\n",
       "    <tr>\n",
       "      <th>4</th>\n",
       "      <td>539055</td>\n",
       "      <td>52378</td>\n",
       "      <td>60300</td>\n",
       "      <td>88.39</td>\n",
       "      <td>67</td>\n",
       "      <td>22807</td>\n",
       "      <td>45</td>\n",
       "      <td>1495</td>\n",
       "      <td>503</td>\n",
       "      <td>Self employed</td>\n",
       "      <td>...</td>\n",
       "      <td>0</td>\n",
       "      <td>0</td>\n",
       "      <td>0</td>\n",
       "      <td>0</td>\n",
       "      <td>0</td>\n",
       "      <td>0</td>\n",
       "      <td>0</td>\n",
       "      <td>0</td>\n",
       "      <td>1</td>\n",
       "      <td>1</td>\n",
       "    </tr>\n",
       "  </tbody>\n",
       "</table>\n",
       "<p>5 rows × 41 columns</p>\n",
       "</div>"
      ],
      "text/plain": [
       "   UniqueID  disbursed_amount  asset_cost    ltv  branch_id  supplier_id  \\\n",
       "0    420825             50578       58400  89.55         67        22807   \n",
       "1    537409             47145       65550  73.23         67        22807   \n",
       "2    417566             53278       61360  89.63         67        22807   \n",
       "3    624493             57513       66113  88.48         67        22807   \n",
       "4    539055             52378       60300  88.39         67        22807   \n",
       "\n",
       "   manufacturer_id  Current_pincode_ID  Date.of.Birth Employment.Type  \\\n",
       "0               45                1441            429        Salaried   \n",
       "1               45                1502            410   Self employed   \n",
       "2               45                1497            409   Self employed   \n",
       "3               45                1501            308   Self employed   \n",
       "4               45                1495            503   Self employed   \n",
       "\n",
       "       ...       SEC.SANCTIONED.AMOUNT  SEC.DISBURSED.AMOUNT  \\\n",
       "0      ...                           0                     0   \n",
       "1      ...                           0                     0   \n",
       "2      ...                           0                     0   \n",
       "3      ...                           0                     0   \n",
       "4      ...                           0                     0   \n",
       "\n",
       "   PRIMARY.INSTAL.AMT  SEC.INSTAL.AMT  NEW.ACCTS.IN.LAST.SIX.MONTHS  \\\n",
       "0                   0               0                             0   \n",
       "1                1991               0                             0   \n",
       "2                   0               0                             0   \n",
       "3                  31               0                             0   \n",
       "4                   0               0                             0   \n",
       "\n",
       "   DELINQUENT.ACCTS.IN.LAST.SIX.MONTHS  AVERAGE.ACCT.AGE  \\\n",
       "0                                    0                 0   \n",
       "1                                    1                23   \n",
       "2                                    0                 0   \n",
       "3                                    0                 8   \n",
       "4                                    0                 0   \n",
       "\n",
       "   CREDIT.HISTORY.LENGTH  NO.OF_INQUIRIES  loan_default  \n",
       "0                      0                0             0  \n",
       "1                     23                0             1  \n",
       "2                      0                0             0  \n",
       "3                     15                1             1  \n",
       "4                      0                1             1  \n",
       "\n",
       "[5 rows x 41 columns]"
      ]
     },
     "execution_count": 15,
     "metadata": {},
     "output_type": "execute_result"
    }
   ],
   "source": [
    "train.head()"
   ]
  },
  {
   "cell_type": "code",
   "execution_count": 16,
   "metadata": {},
   "outputs": [
    {
     "data": {
      "text/html": [
       "<div>\n",
       "<style scoped>\n",
       "    .dataframe tbody tr th:only-of-type {\n",
       "        vertical-align: middle;\n",
       "    }\n",
       "\n",
       "    .dataframe tbody tr th {\n",
       "        vertical-align: top;\n",
       "    }\n",
       "\n",
       "    .dataframe thead th {\n",
       "        text-align: right;\n",
       "    }\n",
       "</style>\n",
       "<table border=\"1\" class=\"dataframe\">\n",
       "  <thead>\n",
       "    <tr style=\"text-align: right;\">\n",
       "      <th></th>\n",
       "      <th>UniqueID</th>\n",
       "      <th>disbursed_amount</th>\n",
       "      <th>asset_cost</th>\n",
       "      <th>ltv</th>\n",
       "      <th>branch_id</th>\n",
       "      <th>supplier_id</th>\n",
       "      <th>manufacturer_id</th>\n",
       "      <th>Current_pincode_ID</th>\n",
       "      <th>Date.of.Birth</th>\n",
       "      <th>Employment.Type</th>\n",
       "      <th>...</th>\n",
       "      <th>SEC.CURRENT.BALANCE</th>\n",
       "      <th>SEC.SANCTIONED.AMOUNT</th>\n",
       "      <th>SEC.DISBURSED.AMOUNT</th>\n",
       "      <th>PRIMARY.INSTAL.AMT</th>\n",
       "      <th>SEC.INSTAL.AMT</th>\n",
       "      <th>NEW.ACCTS.IN.LAST.SIX.MONTHS</th>\n",
       "      <th>DELINQUENT.ACCTS.IN.LAST.SIX.MONTHS</th>\n",
       "      <th>AVERAGE.ACCT.AGE</th>\n",
       "      <th>CREDIT.HISTORY.LENGTH</th>\n",
       "      <th>NO.OF_INQUIRIES</th>\n",
       "    </tr>\n",
       "  </thead>\n",
       "  <tbody>\n",
       "    <tr>\n",
       "      <th>0</th>\n",
       "      <td>655269</td>\n",
       "      <td>53478</td>\n",
       "      <td>63558</td>\n",
       "      <td>86.54</td>\n",
       "      <td>67</td>\n",
       "      <td>22807</td>\n",
       "      <td>45</td>\n",
       "      <td>1497</td>\n",
       "      <td>551</td>\n",
       "      <td>Salaried</td>\n",
       "      <td>...</td>\n",
       "      <td>0</td>\n",
       "      <td>0</td>\n",
       "      <td>0</td>\n",
       "      <td>0</td>\n",
       "      <td>0</td>\n",
       "      <td>0</td>\n",
       "      <td>0</td>\n",
       "      <td>0</td>\n",
       "      <td>0</td>\n",
       "      <td>0</td>\n",
       "    </tr>\n",
       "    <tr>\n",
       "      <th>1</th>\n",
       "      <td>723482</td>\n",
       "      <td>55513</td>\n",
       "      <td>63163</td>\n",
       "      <td>89.45</td>\n",
       "      <td>67</td>\n",
       "      <td>22807</td>\n",
       "      <td>45</td>\n",
       "      <td>1497</td>\n",
       "      <td>412</td>\n",
       "      <td>Self employed</td>\n",
       "      <td>...</td>\n",
       "      <td>0</td>\n",
       "      <td>0</td>\n",
       "      <td>0</td>\n",
       "      <td>5605</td>\n",
       "      <td>0</td>\n",
       "      <td>1</td>\n",
       "      <td>0</td>\n",
       "      <td>8</td>\n",
       "      <td>12</td>\n",
       "      <td>1</td>\n",
       "    </tr>\n",
       "    <tr>\n",
       "      <th>2</th>\n",
       "      <td>758529</td>\n",
       "      <td>65282</td>\n",
       "      <td>84320</td>\n",
       "      <td>79.93</td>\n",
       "      <td>78</td>\n",
       "      <td>23135</td>\n",
       "      <td>86</td>\n",
       "      <td>2071</td>\n",
       "      <td>286</td>\n",
       "      <td>Salaried</td>\n",
       "      <td>...</td>\n",
       "      <td>0</td>\n",
       "      <td>0</td>\n",
       "      <td>0</td>\n",
       "      <td>0</td>\n",
       "      <td>0</td>\n",
       "      <td>0</td>\n",
       "      <td>0</td>\n",
       "      <td>0</td>\n",
       "      <td>0</td>\n",
       "      <td>0</td>\n",
       "    </tr>\n",
       "    <tr>\n",
       "      <th>3</th>\n",
       "      <td>763449</td>\n",
       "      <td>46905</td>\n",
       "      <td>63896</td>\n",
       "      <td>76.58</td>\n",
       "      <td>78</td>\n",
       "      <td>17014</td>\n",
       "      <td>45</td>\n",
       "      <td>2070</td>\n",
       "      <td>558</td>\n",
       "      <td>Self employed</td>\n",
       "      <td>...</td>\n",
       "      <td>0</td>\n",
       "      <td>0</td>\n",
       "      <td>0</td>\n",
       "      <td>0</td>\n",
       "      <td>0</td>\n",
       "      <td>0</td>\n",
       "      <td>0</td>\n",
       "      <td>29</td>\n",
       "      <td>29</td>\n",
       "      <td>0</td>\n",
       "    </tr>\n",
       "    <tr>\n",
       "      <th>4</th>\n",
       "      <td>708663</td>\n",
       "      <td>51428</td>\n",
       "      <td>63896</td>\n",
       "      <td>86.08</td>\n",
       "      <td>78</td>\n",
       "      <td>17014</td>\n",
       "      <td>45</td>\n",
       "      <td>2069</td>\n",
       "      <td>570</td>\n",
       "      <td>Salaried</td>\n",
       "      <td>...</td>\n",
       "      <td>0</td>\n",
       "      <td>0</td>\n",
       "      <td>0</td>\n",
       "      <td>0</td>\n",
       "      <td>0</td>\n",
       "      <td>0</td>\n",
       "      <td>0</td>\n",
       "      <td>0</td>\n",
       "      <td>0</td>\n",
       "      <td>0</td>\n",
       "    </tr>\n",
       "  </tbody>\n",
       "</table>\n",
       "<p>5 rows × 40 columns</p>\n",
       "</div>"
      ],
      "text/plain": [
       "   UniqueID  disbursed_amount  asset_cost    ltv  branch_id  supplier_id  \\\n",
       "0    655269             53478       63558  86.54         67        22807   \n",
       "1    723482             55513       63163  89.45         67        22807   \n",
       "2    758529             65282       84320  79.93         78        23135   \n",
       "3    763449             46905       63896  76.58         78        17014   \n",
       "4    708663             51428       63896  86.08         78        17014   \n",
       "\n",
       "   manufacturer_id  Current_pincode_ID  Date.of.Birth Employment.Type  \\\n",
       "0               45                1497            551        Salaried   \n",
       "1               45                1497            412   Self employed   \n",
       "2               86                2071            286        Salaried   \n",
       "3               45                2070            558   Self employed   \n",
       "4               45                2069            570        Salaried   \n",
       "\n",
       "        ...         SEC.CURRENT.BALANCE  SEC.SANCTIONED.AMOUNT  \\\n",
       "0       ...                           0                      0   \n",
       "1       ...                           0                      0   \n",
       "2       ...                           0                      0   \n",
       "3       ...                           0                      0   \n",
       "4       ...                           0                      0   \n",
       "\n",
       "   SEC.DISBURSED.AMOUNT  PRIMARY.INSTAL.AMT  SEC.INSTAL.AMT  \\\n",
       "0                     0                   0               0   \n",
       "1                     0                5605               0   \n",
       "2                     0                   0               0   \n",
       "3                     0                   0               0   \n",
       "4                     0                   0               0   \n",
       "\n",
       "   NEW.ACCTS.IN.LAST.SIX.MONTHS  DELINQUENT.ACCTS.IN.LAST.SIX.MONTHS  \\\n",
       "0                             0                                    0   \n",
       "1                             1                                    0   \n",
       "2                             0                                    0   \n",
       "3                             0                                    0   \n",
       "4                             0                                    0   \n",
       "\n",
       "   AVERAGE.ACCT.AGE  CREDIT.HISTORY.LENGTH  NO.OF_INQUIRIES  \n",
       "0                 0                      0                0  \n",
       "1                 8                     12                1  \n",
       "2                 0                      0                0  \n",
       "3                29                     29                0  \n",
       "4                 0                      0                0  \n",
       "\n",
       "[5 rows x 40 columns]"
      ]
     },
     "execution_count": 16,
     "metadata": {},
     "output_type": "execute_result"
    }
   ],
   "source": [
    "test.head()"
   ]
  },
  {
   "cell_type": "code",
   "execution_count": 17,
   "metadata": {},
   "outputs": [],
   "source": [
    "X = train.drop('loan_default', axis=1)\n",
    "#X = X.drop('PERFORM_CNS.SCORE.DESCRIPTION' , axis = 1)\n",
    "p = X['UniqueID']\n",
    "X = X.drop('UniqueID' , axis = 1)\n",
    "y = train['loan_default']\n",
    "\n",
    "\n",
    "X_test = test\n",
    "#X_test = X_test.drop('PERFORM_CNS.SCORE.DESCRIPTION' , axis = 1)\n",
    "X_test = X_test.drop('UniqueID' , axis = 1)"
   ]
  },
  {
   "cell_type": "code",
   "execution_count": 18,
   "metadata": {},
   "outputs": [],
   "source": [
    "categorical_cols = ['branch_id','supplier_id','manufacturer_id','Current_pincode_ID','State_ID','Employee_code_ID']\n",
    "label_cols = ['Employment.Type','PERFORM_CNS.SCORE.DESCRIPTION']"
   ]
  },
  {
   "cell_type": "code",
   "execution_count": 19,
   "metadata": {},
   "outputs": [
    {
     "data": {
      "text/plain": [
       "'# filter categorical columns using mask and turn it into a list\\ncategorical_cols = X.columns[categorical_feature_mask].tolist()\\nprint(categorical_cols)\\n\\n\\nct = X_test.columns[categorical_feature_mask].tolist()\\nprint(ct)'"
      ]
     },
     "execution_count": 19,
     "metadata": {},
     "output_type": "execute_result"
    }
   ],
   "source": [
    "'''# filter categorical columns using mask and turn it into a list\n",
    "categorical_cols = X.columns[categorical_feature_mask].tolist()\n",
    "print(categorical_cols)\n",
    "\n",
    "\n",
    "ct = X_test.columns[categorical_feature_mask].tolist()\n",
    "print(ct)'''"
   ]
  },
  {
   "cell_type": "code",
   "execution_count": 20,
   "metadata": {},
   "outputs": [],
   "source": [
    "replace_map = {'PERFORM_CNS.SCORE.DESCRIPTION':{'No Bureau History Available':18, 'I-Medium Risk':9, 'L-Very High Risk':19,'A-Very Low Risk':1,'Not Scored: Not Enough Info available on the customer':16,'D-Very Low Risk':4, 'M-Very High Risk':20, 'B-Very Low Risk':2,'C-Very Low Risk':3, 'E-Low Risk':5, 'H-Medium Risk':8, 'F-Low Risk':6,'K-High Risk':17,'Not Scored: No Activity seen on the customer (Inactive)':11,'Not Scored: Sufficient History Not Available':14,'Not Scored: No Updates available in last 36 months':13, 'G-Low Risk':7,'J-High Risk':15, 'Not Scored: Only a Guarantor':10,'Not Scored: More than 50 active Accounts found':1}}"
   ]
  },
  {
   "cell_type": "code",
   "execution_count": 21,
   "metadata": {},
   "outputs": [
    {
     "name": "stdout",
     "output_type": "stream",
     "text": [
      "   disbursed_amount  asset_cost    ltv  branch_id  supplier_id  \\\n",
      "0             50578       58400  89.55         67        22807   \n",
      "1             47145       65550  73.23         67        22807   \n",
      "2             53278       61360  89.63         67        22807   \n",
      "3             57513       66113  88.48         67        22807   \n",
      "4             52378       60300  88.39         67        22807   \n",
      "\n",
      "   manufacturer_id  Current_pincode_ID  Date.of.Birth Employment.Type  \\\n",
      "0               45                1441            429        Salaried   \n",
      "1               45                1502            410   Self employed   \n",
      "2               45                1497            409   Self employed   \n",
      "3               45                1501            308   Self employed   \n",
      "4               45                1495            503   Self employed   \n",
      "\n",
      "   DisbursalDate       ...         SEC.CURRENT.BALANCE  SEC.SANCTIONED.AMOUNT  \\\n",
      "0              8       ...                           0                      0   \n",
      "1              6       ...                           0                      0   \n",
      "2              8       ...                           0                      0   \n",
      "3              5       ...                           0                      0   \n",
      "4              6       ...                           0                      0   \n",
      "\n",
      "   SEC.DISBURSED.AMOUNT  PRIMARY.INSTAL.AMT  SEC.INSTAL.AMT  \\\n",
      "0                     0                   0               0   \n",
      "1                     0                1991               0   \n",
      "2                     0                   0               0   \n",
      "3                     0                  31               0   \n",
      "4                     0                   0               0   \n",
      "\n",
      "   NEW.ACCTS.IN.LAST.SIX.MONTHS  DELINQUENT.ACCTS.IN.LAST.SIX.MONTHS  \\\n",
      "0                             0                                    0   \n",
      "1                             0                                    1   \n",
      "2                             0                                    0   \n",
      "3                             0                                    0   \n",
      "4                             0                                    0   \n",
      "\n",
      "   AVERAGE.ACCT.AGE  CREDIT.HISTORY.LENGTH  NO.OF_INQUIRIES  \n",
      "0                 0                      0                0  \n",
      "1                23                     23                0  \n",
      "2                 0                      0                0  \n",
      "3                 8                     15                1  \n",
      "4                 0                      0                1  \n",
      "\n",
      "[5 rows x 39 columns]\n"
     ]
    }
   ],
   "source": [
    "X.replace(replace_map, inplace=True)\n",
    "\n",
    "print(X.head())"
   ]
  },
  {
   "cell_type": "code",
   "execution_count": 22,
   "metadata": {},
   "outputs": [
    {
     "name": "stdout",
     "output_type": "stream",
     "text": [
      "['No Bureau History Available' 'C-Very Low Risk'\n",
      " 'Not Scored: Only a Guarantor' 'K-High Risk' 'B-Very Low Risk'\n",
      " 'I-Medium Risk' 'D-Very Low Risk' 'A-Very Low Risk' 'M-Very High Risk'\n",
      " 'E-Low Risk' 'F-Low Risk' 'G-Low Risk'\n",
      " 'Not Scored: No Activity seen on the customer (Inactive)' 'H-Medium Risk'\n",
      " 'J-High Risk' 'L-Very High Risk'\n",
      " 'Not Scored: Sufficient History Not Available'\n",
      " 'Not Scored: Not Enough Info available on the customer'\n",
      " 'Not Scored: No Updates available in last 36 months']\n",
      "19\n"
     ]
    }
   ],
   "source": [
    "print(X_test['PERFORM_CNS.SCORE.DESCRIPTION'].unique())\n",
    "print(len(X_test['PERFORM_CNS.SCORE.DESCRIPTION'].unique()))\n",
    "\n",
    "#replace_map_test = {'PERFORM_CNS.SCORE.DESCRIPTION':{'No Bureau History Available':18, 'I-Medium Risk':9, 'L-Very High Risk':19,'A-Very Low Risk':1,'Not Scored: Not Enough Info available on the customer':16,'D-Very Low Risk':4,'B-Very Low Risk':2,'C-Very Low Risk':3, 'E-Low Risk':5, 'H-Medium Risk':8, 'F-Low Risk':6,'K-High Risk':17,'Not Scored: No Activity seen on the customer (Inactive)':11,'Not Scored: Sufficient History Not Available':14,'Not Scored: No Updates available in last 36 months':13, 'G-Low Risk':7,'J-High Risk':15, 'Not Scored: Only a Guarantor':10,'Not Scored: More than 50 active Accounts found':1}}\n",
    "\n",
    "#print(X_test.head())"
   ]
  },
  {
   "cell_type": "code",
   "execution_count": 23,
   "metadata": {},
   "outputs": [
    {
     "name": "stdout",
     "output_type": "stream",
     "text": [
      "   disbursed_amount  asset_cost    ltv  branch_id  supplier_id  \\\n",
      "0             53478       63558  86.54         67        22807   \n",
      "1             55513       63163  89.45         67        22807   \n",
      "2             65282       84320  79.93         78        23135   \n",
      "3             46905       63896  76.58         78        17014   \n",
      "4             51428       63896  86.08         78        17014   \n",
      "\n",
      "   manufacturer_id  Current_pincode_ID  Date.of.Birth Employment.Type  \\\n",
      "0               45                1497            551        Salaried   \n",
      "1               45                1497            412   Self employed   \n",
      "2               86                2071            286        Salaried   \n",
      "3               45                2070            558   Self employed   \n",
      "4               45                2069            570        Salaried   \n",
      "\n",
      "   DisbursalDate       ...         SEC.CURRENT.BALANCE  SEC.SANCTIONED.AMOUNT  \\\n",
      "0              5       ...                           0                      0   \n",
      "1              4       ...                           0                      0   \n",
      "2              4       ...                           0                      0   \n",
      "3              4       ...                           0                      0   \n",
      "4              5       ...                           0                      0   \n",
      "\n",
      "   SEC.DISBURSED.AMOUNT  PRIMARY.INSTAL.AMT  SEC.INSTAL.AMT  \\\n",
      "0                     0                   0               0   \n",
      "1                     0                5605               0   \n",
      "2                     0                   0               0   \n",
      "3                     0                   0               0   \n",
      "4                     0                   0               0   \n",
      "\n",
      "   NEW.ACCTS.IN.LAST.SIX.MONTHS  DELINQUENT.ACCTS.IN.LAST.SIX.MONTHS  \\\n",
      "0                             0                                    0   \n",
      "1                             1                                    0   \n",
      "2                             0                                    0   \n",
      "3                             0                                    0   \n",
      "4                             0                                    0   \n",
      "\n",
      "   AVERAGE.ACCT.AGE  CREDIT.HISTORY.LENGTH  NO.OF_INQUIRIES  \n",
      "0                 0                      0                0  \n",
      "1                 8                     12                1  \n",
      "2                 0                      0                0  \n",
      "3                29                     29                0  \n",
      "4                 0                      0                0  \n",
      "\n",
      "[5 rows x 39 columns]\n"
     ]
    }
   ],
   "source": [
    "X_test.replace(replace_map, inplace=True)\n",
    "\n",
    "print(X_test.head())"
   ]
  },
  {
   "cell_type": "code",
   "execution_count": 24,
   "metadata": {},
   "outputs": [
    {
     "name": "stdout",
     "output_type": "stream",
     "text": [
      "0    18\n",
      "1     3\n",
      "2    18\n",
      "3    10\n",
      "4    18\n",
      "Name: PERFORM_CNS.SCORE.DESCRIPTION, dtype: int64\n"
     ]
    }
   ],
   "source": [
    "print(X_test[\"PERFORM_CNS.SCORE.DESCRIPTION\"].head())\n",
    "#X_test[\"PERFORM_CNS.SCORE.DESCRIPTION\"] = X_test[\"PERFORM_CNS.SCORE.DESCRIPTION\"].astype(np.int64)"
   ]
  },
  {
   "cell_type": "code",
   "execution_count": 25,
   "metadata": {},
   "outputs": [
    {
     "name": "stdout",
     "output_type": "stream",
     "text": [
      "['Salaried' 'Self employed' 'a']\n",
      "['Salaried' 'Self employed' 'a']\n"
     ]
    }
   ],
   "source": [
    "print(X['Employment.Type'].unique())\n",
    "print(X_test['Employment.Type'].unique())\n",
    "\n",
    "replace_m1 = {'Employment.Type':{'a':100000000,'Self employed':1,'Salaried':2}}"
   ]
  },
  {
   "cell_type": "code",
   "execution_count": 26,
   "metadata": {},
   "outputs": [
    {
     "name": "stdout",
     "output_type": "stream",
     "text": [
      "   disbursed_amount  asset_cost    ltv  branch_id  supplier_id  \\\n",
      "0             50578       58400  89.55         67        22807   \n",
      "1             47145       65550  73.23         67        22807   \n",
      "2             53278       61360  89.63         67        22807   \n",
      "3             57513       66113  88.48         67        22807   \n",
      "4             52378       60300  88.39         67        22807   \n",
      "\n",
      "   manufacturer_id  Current_pincode_ID  Date.of.Birth  Employment.Type  \\\n",
      "0               45                1441            429                2   \n",
      "1               45                1502            410                1   \n",
      "2               45                1497            409                1   \n",
      "3               45                1501            308                1   \n",
      "4               45                1495            503                1   \n",
      "\n",
      "   DisbursalDate       ...         SEC.CURRENT.BALANCE  SEC.SANCTIONED.AMOUNT  \\\n",
      "0              8       ...                           0                      0   \n",
      "1              6       ...                           0                      0   \n",
      "2              8       ...                           0                      0   \n",
      "3              5       ...                           0                      0   \n",
      "4              6       ...                           0                      0   \n",
      "\n",
      "   SEC.DISBURSED.AMOUNT  PRIMARY.INSTAL.AMT  SEC.INSTAL.AMT  \\\n",
      "0                     0                   0               0   \n",
      "1                     0                1991               0   \n",
      "2                     0                   0               0   \n",
      "3                     0                  31               0   \n",
      "4                     0                   0               0   \n",
      "\n",
      "   NEW.ACCTS.IN.LAST.SIX.MONTHS  DELINQUENT.ACCTS.IN.LAST.SIX.MONTHS  \\\n",
      "0                             0                                    0   \n",
      "1                             0                                    1   \n",
      "2                             0                                    0   \n",
      "3                             0                                    0   \n",
      "4                             0                                    0   \n",
      "\n",
      "   AVERAGE.ACCT.AGE  CREDIT.HISTORY.LENGTH  NO.OF_INQUIRIES  \n",
      "0                 0                      0                0  \n",
      "1                23                     23                0  \n",
      "2                 0                      0                0  \n",
      "3                 8                     15                1  \n",
      "4                 0                      0                1  \n",
      "\n",
      "[5 rows x 39 columns]\n"
     ]
    }
   ],
   "source": [
    "X.replace(replace_m1, inplace=True)\n",
    "\n",
    "print(X.head())"
   ]
  },
  {
   "cell_type": "code",
   "execution_count": 27,
   "metadata": {},
   "outputs": [
    {
     "name": "stdout",
     "output_type": "stream",
     "text": [
      "   disbursed_amount  asset_cost    ltv  branch_id  supplier_id  \\\n",
      "0             53478       63558  86.54         67        22807   \n",
      "1             55513       63163  89.45         67        22807   \n",
      "2             65282       84320  79.93         78        23135   \n",
      "3             46905       63896  76.58         78        17014   \n",
      "4             51428       63896  86.08         78        17014   \n",
      "\n",
      "   manufacturer_id  Current_pincode_ID  Date.of.Birth  Employment.Type  \\\n",
      "0               45                1497            551                2   \n",
      "1               45                1497            412                1   \n",
      "2               86                2071            286                2   \n",
      "3               45                2070            558                1   \n",
      "4               45                2069            570                2   \n",
      "\n",
      "   DisbursalDate       ...         SEC.CURRENT.BALANCE  SEC.SANCTIONED.AMOUNT  \\\n",
      "0              5       ...                           0                      0   \n",
      "1              4       ...                           0                      0   \n",
      "2              4       ...                           0                      0   \n",
      "3              4       ...                           0                      0   \n",
      "4              5       ...                           0                      0   \n",
      "\n",
      "   SEC.DISBURSED.AMOUNT  PRIMARY.INSTAL.AMT  SEC.INSTAL.AMT  \\\n",
      "0                     0                   0               0   \n",
      "1                     0                5605               0   \n",
      "2                     0                   0               0   \n",
      "3                     0                   0               0   \n",
      "4                     0                   0               0   \n",
      "\n",
      "   NEW.ACCTS.IN.LAST.SIX.MONTHS  DELINQUENT.ACCTS.IN.LAST.SIX.MONTHS  \\\n",
      "0                             0                                    0   \n",
      "1                             1                                    0   \n",
      "2                             0                                    0   \n",
      "3                             0                                    0   \n",
      "4                             0                                    0   \n",
      "\n",
      "   AVERAGE.ACCT.AGE  CREDIT.HISTORY.LENGTH  NO.OF_INQUIRIES  \n",
      "0                 0                      0                0  \n",
      "1                 8                     12                1  \n",
      "2                 0                      0                0  \n",
      "3                29                     29                0  \n",
      "4                 0                      0                0  \n",
      "\n",
      "[5 rows x 39 columns]\n"
     ]
    }
   ],
   "source": [
    "X_test.replace(replace_m1, inplace=True)\n",
    "\n",
    "print(X_test.head())"
   ]
  },
  {
   "cell_type": "code",
   "execution_count": 28,
   "metadata": {},
   "outputs": [
    {
     "data": {
      "text/plain": [
       "0    2\n",
       "1    1\n",
       "2    1\n",
       "3    1\n",
       "4    1\n",
       "Name: Employment.Type, dtype: int64"
      ]
     },
     "execution_count": 28,
     "metadata": {},
     "output_type": "execute_result"
    }
   ],
   "source": [
    "X['Employment.Type'].head()"
   ]
  },
  {
   "cell_type": "code",
   "execution_count": 29,
   "metadata": {},
   "outputs": [
    {
     "data": {
      "text/plain": [
       "0    2\n",
       "1    1\n",
       "2    2\n",
       "3    1\n",
       "4    2\n",
       "Name: Employment.Type, dtype: int64"
      ]
     },
     "execution_count": 29,
     "metadata": {},
     "output_type": "execute_result"
    }
   ],
   "source": [
    "X_test['Employment.Type'].head()"
   ]
  },
  {
   "cell_type": "code",
   "execution_count": null,
   "metadata": {},
   "outputs": [],
   "source": []
  },
  {
   "cell_type": "code",
   "execution_count": 30,
   "metadata": {},
   "outputs": [],
   "source": [
    "# import labelencoder\n",
    "from sklearn.preprocessing import LabelEncoder\n",
    "# instantiate labelencoder object\n",
    "le = LabelEncoder()"
   ]
  },
  {
   "cell_type": "code",
   "execution_count": 31,
   "metadata": {},
   "outputs": [
    {
     "name": "stdout",
     "output_type": "stream",
     "text": [
      "   branch_id  supplier_id  manufacturer_id  Current_pincode_ID  State_ID  \\\n",
      "0         30         1415                0                1339         5   \n",
      "1         30         1415                0                1397         5   \n",
      "2         30         1415                0                1392         5   \n",
      "3         30         1415                0                1396         5   \n",
      "4         30         1415                0                1391         5   \n",
      "5         30         1415                0                1396         5   \n",
      "6         30         1415                0                1397         5   \n",
      "7         30         1415                0                1396         5   \n",
      "8         30         1415                0                1392         5   \n",
      "9         30         1415                0                1388         5   \n",
      "\n",
      "   Employee_code_ID  \n",
      "0              1588  \n",
      "1              1588  \n",
      "2              1588  \n",
      "3              1588  \n",
      "4              1588  \n",
      "5              1588  \n",
      "6              1588  \n",
      "7              1588  \n",
      "8              1588  \n",
      "9              1588  \n",
      "   branch_id  supplier_id  manufacturer_id  Current_pincode_ID  State_ID  \\\n",
      "0         30         1415                0                1339         5   \n",
      "1         30         1415                0                1397         5   \n",
      "2         30         1415                0                1392         5   \n",
      "3         30         1415                0                1396         5   \n",
      "4         30         1415                0                1391         5   \n",
      "5         30         1415                0                1396         5   \n",
      "6         30         1415                0                1397         5   \n",
      "7         30         1415                0                1396         5   \n",
      "8         30         1415                0                1392         5   \n",
      "9         30         1415                0                1388         5   \n",
      "\n",
      "   Employee_code_ID  \n",
      "0              1588  \n",
      "1              1588  \n",
      "2              1588  \n",
      "3              1588  \n",
      "4              1588  \n",
      "5              1588  \n",
      "6              1588  \n",
      "7              1588  \n",
      "8              1588  \n",
      "9              1588  \n"
     ]
    }
   ],
   "source": [
    "# apply le on categorical feature columns\n",
    "X[categorical_cols] = X[categorical_cols].apply(lambda col: le.fit_transform(col))\n",
    "print(X[categorical_cols].head(10))\n",
    "\n",
    "\n",
    "X_test[categorical_cols] = X_test[categorical_cols].apply(lambda col: le.fit_transform(col))\n",
    "print(X[categorical_cols].head(10))"
   ]
  },
  {
   "cell_type": "code",
   "execution_count": null,
   "metadata": {},
   "outputs": [],
   "source": []
  },
  {
   "cell_type": "code",
   "execution_count": null,
   "metadata": {},
   "outputs": [],
   "source": []
  },
  {
   "cell_type": "code",
   "execution_count": 32,
   "metadata": {},
   "outputs": [
    {
     "data": {
      "text/plain": [
       "'from imblearn.over_sampling import SMOTE\\nos = SMOTE(random_state=0)\\n\\ncolumns = X.columns\\nos_data_X,os_data_y=os.fit_sample(X, y)\\nos_data_X = pd.DataFrame(data=os_data_X,columns=columns )\\nos_data_y= pd.DataFrame(data=os_data_y,columns=[\\'loan_default\\'])\\n# we can Check the numbers of our data\\nprint(\"length of oversampled data is \",len(os_data_X))\\nprint(\"Number of no subscription in oversampled data\",len(os_data_y[os_data_y[\\'loan_default\\']==0]))\\nprint(\"Number of subscription\",len(os_data_y[os_data_y[\\'loan_default\\']==1]))\\nprint(\"Proportion of no subscription data in oversampled data is \",len(os_data_y[os_data_y[\\'loan_default\\']==0])/len(os_data_X))\\nprint(\"Proportion of subscription data in oversampled data is \",len(os_data_y[os_data_y[\\'loan_default\\']==1])/len(os_data_X))'"
      ]
     },
     "execution_count": 32,
     "metadata": {},
     "output_type": "execute_result"
    }
   ],
   "source": [
    "'''from imblearn.over_sampling import SMOTE\n",
    "os = SMOTE(random_state=0)\n",
    "\n",
    "columns = X.columns\n",
    "os_data_X,os_data_y=os.fit_sample(X, y)\n",
    "os_data_X = pd.DataFrame(data=os_data_X,columns=columns )\n",
    "os_data_y= pd.DataFrame(data=os_data_y,columns=['loan_default'])\n",
    "# we can Check the numbers of our data\n",
    "print(\"length of oversampled data is \",len(os_data_X))\n",
    "print(\"Number of no subscription in oversampled data\",len(os_data_y[os_data_y['loan_default']==0]))\n",
    "print(\"Number of subscription\",len(os_data_y[os_data_y['loan_default']==1]))\n",
    "print(\"Proportion of no subscription data in oversampled data is \",len(os_data_y[os_data_y['loan_default']==0])/len(os_data_X))\n",
    "print(\"Proportion of subscription data in oversampled data is \",len(os_data_y[os_data_y['loan_default']==1])/len(os_data_X))'''"
   ]
  },
  {
   "cell_type": "code",
   "execution_count": null,
   "metadata": {},
   "outputs": [],
   "source": []
  },
  {
   "cell_type": "code",
   "execution_count": null,
   "metadata": {},
   "outputs": [],
   "source": []
  },
  {
   "cell_type": "code",
   "execution_count": null,
   "metadata": {},
   "outputs": [],
   "source": []
  },
  {
   "cell_type": "code",
   "execution_count": null,
   "metadata": {},
   "outputs": [],
   "source": []
  },
  {
   "cell_type": "code",
   "execution_count": null,
   "metadata": {},
   "outputs": [],
   "source": []
  },
  {
   "cell_type": "code",
   "execution_count": null,
   "metadata": {},
   "outputs": [],
   "source": []
  },
  {
   "cell_type": "code",
   "execution_count": 33,
   "metadata": {},
   "outputs": [
    {
     "name": "stderr",
     "output_type": "stream",
     "text": [
      "C:\\Users\\HP\\Anaconda3\\envs\\tfenv\\lib\\site-packages\\sklearn\\preprocessing\\data.py:617: DataConversionWarning: Data with input dtype int64, float64 were all converted to float64 by StandardScaler.\n",
      "  return self.partial_fit(X, y)\n",
      "C:\\Users\\HP\\Anaconda3\\envs\\tfenv\\lib\\site-packages\\sklearn\\base.py:462: DataConversionWarning: Data with input dtype int64, float64 were all converted to float64 by StandardScaler.\n",
      "  return self.fit(X, **fit_params).transform(X)\n"
     ]
    }
   ],
   "source": [
    "scaler = StandardScaler()\n",
    "X_std = scaler.fit_transform(X)"
   ]
  },
  {
   "cell_type": "code",
   "execution_count": 34,
   "metadata": {},
   "outputs": [
    {
     "name": "stdout",
     "output_type": "stream",
     "text": [
      "[[-0.29133529 -0.92189534  1.2921334  -0.01869548  0.49186836 -1.44714177\n",
      "  -0.85129183  0.02441887 -0.18432155  1.61053431 -0.28161112  0.40800251\n",
      "   0.          0.43591589 -0.28592912 -0.41171888 -0.15425693 -0.04617234\n",
      "  -0.85545269  0.75932016 -0.46780372 -0.53561706 -0.28526422 -0.17606398\n",
      "  -0.0920098  -0.09171146 -0.09425935 -0.08765132 -0.06521628 -0.03188381\n",
      "  -0.03983456 -0.03932261 -0.08658051 -0.02078408 -0.3997818  -0.25356649\n",
      "  -0.59019844 -0.56863979 -0.29244957]\n",
      " [-0.55599679 -0.54448189 -0.13237161 -0.01869548  0.49186836 -1.44714177\n",
      "  -0.82252462 -0.13443244 -0.18432161 -0.33721913 -0.28161112  0.40800251\n",
      "   0.          0.43591589 -0.28592912 -0.41171888 -0.15425693 -0.04617234\n",
      "   0.91182229 -0.58425812 -0.27613083 -0.02054934  1.53694111 -0.14677306\n",
      "  -0.07087108 -0.07059897 -0.09425935 -0.08765132 -0.06521628 -0.03188381\n",
      "  -0.03983456 -0.03932261 -0.0734271  -0.02078408 -0.3997818   2.34763206\n",
      "   0.93233674  0.23608517 -0.29244957]\n",
      " [-0.08318323 -0.76565145  1.29911627 -0.01869548  0.49186836 -1.44714177\n",
      "  -0.82500456 -0.14279303 -0.18432161  1.61053431 -0.28161112  0.40800251\n",
      "   0.          0.43591589 -0.28592912 -0.41171888 -0.15425693 -0.04617234\n",
      "  -0.85545269  0.75932016 -0.46780372 -0.53561706 -0.28526422 -0.17606398\n",
      "  -0.0920098  -0.09171146 -0.09425935 -0.08765132 -0.06521628 -0.03188381\n",
      "  -0.03983456 -0.03932261 -0.08658051 -0.02078408 -0.3997818  -0.25356649\n",
      "  -0.59019844 -0.56863979 -0.29244957]\n",
      " [ 0.24330713 -0.51476388  1.19873755 -0.01869548  0.49186836 -1.44714177\n",
      "  -0.82302061 -0.98721311 -0.18432161 -1.31109585 -0.28161112  0.40800251\n",
      "   0.          0.43591589 -0.28592912 -0.41171888 -0.15425693 -0.04617234\n",
      "   0.04591666  0.90860663  0.10721495 -0.53561706 -0.28526422 -0.17606398\n",
      "  -0.0920098  -0.09171146 -0.09425935 -0.08765132 -0.06521628 -0.03188381\n",
      "  -0.03983456 -0.03932261 -0.08637571 -0.02078408 -0.3997818  -0.25356649\n",
      "  -0.06062098 -0.04381916  1.12298621]\n",
      " [-0.15256725 -0.82160365  1.19088182 -0.01869548  0.49186836 -1.44714177\n",
      "  -0.82550054  0.64310288 -0.18432161 -0.33721913 -0.28161112  0.40800251\n",
      "   0.          0.43591589 -0.28592912 -0.41171888 -0.15425693 -0.04617234\n",
      "  -0.85545269  0.75932016 -0.46780372 -0.53561706 -0.28526422 -0.17606398\n",
      "  -0.0920098  -0.09171146 -0.09425935 -0.08765132 -0.06521628 -0.03188381\n",
      "  -0.03983456 -0.03932261 -0.08658051 -0.02078408 -0.3997818  -0.25356649\n",
      "  -0.59019844 -0.56863979  1.12298621]]\n"
     ]
    }
   ],
   "source": [
    "print(X_std[0:5])"
   ]
  },
  {
   "cell_type": "code",
   "execution_count": 35,
   "metadata": {},
   "outputs": [
    {
     "name": "stderr",
     "output_type": "stream",
     "text": [
      "C:\\Users\\HP\\Anaconda3\\envs\\tfenv\\lib\\site-packages\\sklearn\\preprocessing\\data.py:617: DataConversionWarning: Data with input dtype int64, float64 were all converted to float64 by StandardScaler.\n",
      "  return self.partial_fit(X, y)\n",
      "C:\\Users\\HP\\Anaconda3\\envs\\tfenv\\lib\\site-packages\\sklearn\\base.py:462: DataConversionWarning: Data with input dtype int64, float64 were all converted to float64 by StandardScaler.\n",
      "  return self.fit(X, **fit_params).transform(X)\n"
     ]
    }
   ],
   "source": [
    "X_test_std = scaler.fit_transform(X_test)"
   ]
  },
  {
   "cell_type": "code",
   "execution_count": 36,
   "metadata": {},
   "outputs": [
    {
     "data": {
      "text/plain": [
       "array([[-0.19802459, -0.74588604,  1.02029226, -0.108423  ,  0.36359471,\n",
       "        -1.39139215, -0.65831223,  1.01311898, -0.17776932,  0.86053167,\n",
       "        -0.25978613,  0.15855576,  0.        ,  0.38719463, -0.48681987,\n",
       "        -0.37098305, -0.13035844, -0.04377915, -0.84795116,  0.75027222,\n",
       "        -0.48851843, -0.5355005 , -0.28624777, -0.16712752, -0.1788822 ,\n",
       "        -0.17819527, -0.05991427, -0.06225443, -0.04304992, -0.01974379,\n",
       "        -0.01846423, -0.0182311 , -0.04099236, -0.00951938, -0.3733767 ,\n",
       "        -0.24065504, -0.5897889 , -0.56426354, -0.305886  ],\n",
       "       [-0.04296089, -0.76750452,  1.28468553, -0.108423  ,  0.36359471,\n",
       "        -1.39139215, -0.65831223, -0.13810565, -0.17776938, -1.16207228,\n",
       "        -0.25978613,  0.15855576,  0.        ,  0.38719463, -0.48681987,\n",
       "        -0.37098305, -0.13035844, -0.04377915,  1.35625372, -1.47125145,\n",
       "        -0.04982667,  0.04138581, -0.28624777, -0.11775336, -0.1332652 ,\n",
       "        -0.132903  , -0.05991427, -0.06225443, -0.04304992, -0.01974379,\n",
       "        -0.01846423, -0.0182311 , -0.02054539, -0.00951938,  0.81229715,\n",
       "        -0.24065504, -0.05608987, -0.12726836,  1.0468778 ],\n",
       "       [ 0.70142104,  0.39042509,  0.41972884,  0.26764435,  0.65516734,\n",
       "         0.856726  , -0.36799477, -1.18166178, -0.17776932, -1.16207228,\n",
       "        -0.68715247, -0.10909153,  0.        ,  0.38719463,  2.05414788,\n",
       "        -0.37098305, -0.13035844, -0.04377915, -0.84795116,  0.75027222,\n",
       "        -0.48851843, -0.5355005 , -0.28624777, -0.16712752, -0.1788822 ,\n",
       "        -0.17819527, -0.05991427, -0.06225443, -0.04304992, -0.01974379,\n",
       "        -0.01846423, -0.0182311 , -0.04099236, -0.00951938, -0.3733767 ,\n",
       "        -0.24065504, -0.5897889 , -0.56426354, -0.305886  ],\n",
       "       [-0.69887652, -0.72738719,  0.11535858,  0.26764435, -0.7274938 ,\n",
       "        -1.39139215, -0.36854358,  1.07109432, -0.17776938, -1.16207228,\n",
       "        -0.68715247, -0.10909153,  0.        ,  0.38719463, -0.48681987,\n",
       "        -0.37098305, -0.13035844, -0.04377915, -0.80675107, -0.4345404 ,\n",
       "        -0.26917255,  0.04138581,  1.59405377, -0.01812099,  0.05958305,\n",
       "         0.05857246, -0.05991427, -0.06225443, -0.04304992, -0.01974379,\n",
       "        -0.01846423, -0.0182311 , -0.04099236, -0.00951938, -0.3733767 ,\n",
       "        -0.24065504,  1.34487008,  0.49180816, -0.305886  ],\n",
       "       [-0.35423126, -0.72738719,  0.97849813,  0.26764435, -0.7274938 ,\n",
       "        -1.39139215, -0.36909238,  1.17048062, -0.17776932,  0.86053167,\n",
       "        -0.68715247, -0.10909153,  0.        ,  0.38719463, -0.48681987,\n",
       "        -0.37098305, -0.13035844, -0.04377915, -0.84795116,  0.75027222,\n",
       "        -0.48851843, -0.5355005 , -0.28624777, -0.16712752, -0.1788822 ,\n",
       "        -0.17819527, -0.05991427, -0.06225443, -0.04304992, -0.01974379,\n",
       "        -0.01846423, -0.0182311 , -0.04099236, -0.00951938, -0.3733767 ,\n",
       "        -0.24065504, -0.5897889 , -0.56426354, -0.305886  ]])"
      ]
     },
     "execution_count": 36,
     "metadata": {},
     "output_type": "execute_result"
    }
   ],
   "source": [
    "X_test_std[0:5]"
   ]
  },
  {
   "cell_type": "code",
   "execution_count": 37,
   "metadata": {},
   "outputs": [
    {
     "data": {
      "text/plain": [
       "(112392, 39)"
      ]
     },
     "execution_count": 37,
     "metadata": {},
     "output_type": "execute_result"
    }
   ],
   "source": [
    "X_test_std.shape"
   ]
  },
  {
   "cell_type": "code",
   "execution_count": 38,
   "metadata": {},
   "outputs": [
    {
     "data": {
      "text/plain": [
       "112392"
      ]
     },
     "execution_count": 38,
     "metadata": {},
     "output_type": "execute_result"
    }
   ],
   "source": [
    "len(X_test)"
   ]
  },
  {
   "cell_type": "code",
   "execution_count": 39,
   "metadata": {},
   "outputs": [
    {
     "data": {
      "text/plain": [
       "(233154, 39)"
      ]
     },
     "execution_count": 39,
     "metadata": {},
     "output_type": "execute_result"
    }
   ],
   "source": [
    "X_std.shape"
   ]
  },
  {
   "cell_type": "code",
   "execution_count": 40,
   "metadata": {},
   "outputs": [
    {
     "data": {
      "text/plain": [
       "(233154,)"
      ]
     },
     "execution_count": 40,
     "metadata": {},
     "output_type": "execute_result"
    }
   ],
   "source": [
    "y.shape"
   ]
  },
  {
   "cell_type": "code",
   "execution_count": null,
   "metadata": {},
   "outputs": [],
   "source": []
  },
  {
   "cell_type": "code",
   "execution_count": null,
   "metadata": {},
   "outputs": [],
   "source": []
  },
  {
   "cell_type": "code",
   "execution_count": null,
   "metadata": {},
   "outputs": [],
   "source": []
  },
  {
   "cell_type": "code",
   "execution_count": null,
   "metadata": {},
   "outputs": [],
   "source": []
  },
  {
   "cell_type": "code",
   "execution_count": null,
   "metadata": {},
   "outputs": [],
   "source": []
  },
  {
   "cell_type": "code",
   "execution_count": 41,
   "metadata": {},
   "outputs": [
    {
     "name": "stderr",
     "output_type": "stream",
     "text": [
      "C:\\Users\\HP\\Anaconda3\\envs\\tfenv\\lib\\site-packages\\sklearn\\linear_model\\logistic.py:432: FutureWarning: Default solver will be changed to 'lbfgs' in 0.22. Specify a solver to silence this warning.\n",
      "  FutureWarning)\n"
     ]
    },
    {
     "data": {
      "text/plain": [
       "LogisticRegression(C=3.0, class_weight='balanced', dual=False,\n",
       "          fit_intercept=True, intercept_scaling=1, max_iter=6000,\n",
       "          multi_class='warn', n_jobs=None, penalty='l1', random_state=0,\n",
       "          solver='warn', tol=0.0001, verbose=0, warm_start=False)"
      ]
     },
     "execution_count": 41,
     "metadata": {},
     "output_type": "execute_result"
    }
   ],
   "source": [
    "from sklearn.linear_model import LogisticRegression\n",
    "from sklearn import metrics\n",
    "\n",
    "\n",
    "logreg = LogisticRegression(C=4.0,random_state=0, class_weight='balanced', dual=False, fit_intercept=True,\n",
    "          intercept_scaling=1, max_iter = 6000,penalty='l1')\n",
    "logreg.fit(X_std, y)"
   ]
  },
  {
   "cell_type": "code",
   "execution_count": 42,
   "metadata": {},
   "outputs": [
    {
     "name": "stdout",
     "output_type": "stream",
     "text": [
      "Coefficient of each feature: [[-1.07032100e-01  2.03131880e-01  4.31947889e-01  3.06674831e-02\n",
      "   3.62355318e-02 -7.88658310e-02  8.50592036e-02 -8.21318618e-02\n",
      "  -2.18798463e-02 -7.47350532e-02  9.67938131e-02  2.77754094e-02\n",
      "   0.00000000e+00 -5.87224450e-02 -2.40777191e-02  2.27794437e-02\n",
      "  -2.43952376e-02 -2.26164046e-02  2.50268730e-01  3.57965900e-01\n",
      "  -1.42011000e-02 -1.43499865e-01  9.46391163e-02 -6.91506730e-02\n",
      "  -5.45451990e-02  6.09519641e-02 -1.31802100e-02  1.14342878e-02\n",
      "   7.69732446e-03 -5.23739076e-03 -4.02195035e-01  3.91762812e-01\n",
      "   5.40789571e-05  5.81411761e-03  2.29139729e-02  9.12870785e-02\n",
      "   1.18214939e-01 -1.92936886e-01  1.16984328e-01]]\n",
      "Length: 1\n"
     ]
    }
   ],
   "source": [
    "print('Coefficient of each feature:', logreg.coef_)\n",
    "print('Length:', len(logreg.coef_))"
   ]
  },
  {
   "cell_type": "code",
   "execution_count": 43,
   "metadata": {},
   "outputs": [],
   "source": [
    "y_pred = logreg.predict(X_test_std)"
   ]
  },
  {
   "cell_type": "code",
   "execution_count": 44,
   "metadata": {},
   "outputs": [
    {
     "data": {
      "text/html": [
       "<div>\n",
       "<style scoped>\n",
       "    .dataframe tbody tr th:only-of-type {\n",
       "        vertical-align: middle;\n",
       "    }\n",
       "\n",
       "    .dataframe tbody tr th {\n",
       "        vertical-align: top;\n",
       "    }\n",
       "\n",
       "    .dataframe thead th {\n",
       "        text-align: right;\n",
       "    }\n",
       "</style>\n",
       "<table border=\"1\" class=\"dataframe\">\n",
       "  <thead>\n",
       "    <tr style=\"text-align: right;\">\n",
       "      <th></th>\n",
       "      <th>disbursed_amount</th>\n",
       "      <th>asset_cost</th>\n",
       "      <th>ltv</th>\n",
       "      <th>branch_id</th>\n",
       "      <th>supplier_id</th>\n",
       "      <th>manufacturer_id</th>\n",
       "      <th>Current_pincode_ID</th>\n",
       "      <th>Date.of.Birth</th>\n",
       "      <th>Employment.Type</th>\n",
       "      <th>DisbursalDate</th>\n",
       "      <th>...</th>\n",
       "      <th>SEC.CURRENT.BALANCE</th>\n",
       "      <th>SEC.SANCTIONED.AMOUNT</th>\n",
       "      <th>SEC.DISBURSED.AMOUNT</th>\n",
       "      <th>PRIMARY.INSTAL.AMT</th>\n",
       "      <th>SEC.INSTAL.AMT</th>\n",
       "      <th>NEW.ACCTS.IN.LAST.SIX.MONTHS</th>\n",
       "      <th>DELINQUENT.ACCTS.IN.LAST.SIX.MONTHS</th>\n",
       "      <th>AVERAGE.ACCT.AGE</th>\n",
       "      <th>CREDIT.HISTORY.LENGTH</th>\n",
       "      <th>NO.OF_INQUIRIES</th>\n",
       "    </tr>\n",
       "  </thead>\n",
       "  <tbody>\n",
       "    <tr>\n",
       "      <th>0</th>\n",
       "      <td>53478</td>\n",
       "      <td>63558</td>\n",
       "      <td>86.54</td>\n",
       "      <td>30</td>\n",
       "      <td>1345</td>\n",
       "      <td>0</td>\n",
       "      <td>1351</td>\n",
       "      <td>551</td>\n",
       "      <td>2</td>\n",
       "      <td>5</td>\n",
       "      <td>...</td>\n",
       "      <td>0</td>\n",
       "      <td>0</td>\n",
       "      <td>0</td>\n",
       "      <td>0</td>\n",
       "      <td>0</td>\n",
       "      <td>0</td>\n",
       "      <td>0</td>\n",
       "      <td>0</td>\n",
       "      <td>0</td>\n",
       "      <td>0</td>\n",
       "    </tr>\n",
       "    <tr>\n",
       "      <th>1</th>\n",
       "      <td>55513</td>\n",
       "      <td>63163</td>\n",
       "      <td>89.45</td>\n",
       "      <td>30</td>\n",
       "      <td>1345</td>\n",
       "      <td>0</td>\n",
       "      <td>1351</td>\n",
       "      <td>412</td>\n",
       "      <td>1</td>\n",
       "      <td>4</td>\n",
       "      <td>...</td>\n",
       "      <td>0</td>\n",
       "      <td>0</td>\n",
       "      <td>0</td>\n",
       "      <td>5605</td>\n",
       "      <td>0</td>\n",
       "      <td>1</td>\n",
       "      <td>0</td>\n",
       "      <td>8</td>\n",
       "      <td>12</td>\n",
       "      <td>1</td>\n",
       "    </tr>\n",
       "    <tr>\n",
       "      <th>2</th>\n",
       "      <td>65282</td>\n",
       "      <td>84320</td>\n",
       "      <td>79.93</td>\n",
       "      <td>39</td>\n",
       "      <td>1566</td>\n",
       "      <td>5</td>\n",
       "      <td>1880</td>\n",
       "      <td>286</td>\n",
       "      <td>2</td>\n",
       "      <td>4</td>\n",
       "      <td>...</td>\n",
       "      <td>0</td>\n",
       "      <td>0</td>\n",
       "      <td>0</td>\n",
       "      <td>0</td>\n",
       "      <td>0</td>\n",
       "      <td>0</td>\n",
       "      <td>0</td>\n",
       "      <td>0</td>\n",
       "      <td>0</td>\n",
       "      <td>0</td>\n",
       "    </tr>\n",
       "    <tr>\n",
       "      <th>3</th>\n",
       "      <td>46905</td>\n",
       "      <td>63896</td>\n",
       "      <td>76.58</td>\n",
       "      <td>39</td>\n",
       "      <td>518</td>\n",
       "      <td>0</td>\n",
       "      <td>1879</td>\n",
       "      <td>558</td>\n",
       "      <td>1</td>\n",
       "      <td>4</td>\n",
       "      <td>...</td>\n",
       "      <td>0</td>\n",
       "      <td>0</td>\n",
       "      <td>0</td>\n",
       "      <td>0</td>\n",
       "      <td>0</td>\n",
       "      <td>0</td>\n",
       "      <td>0</td>\n",
       "      <td>29</td>\n",
       "      <td>29</td>\n",
       "      <td>0</td>\n",
       "    </tr>\n",
       "    <tr>\n",
       "      <th>4</th>\n",
       "      <td>51428</td>\n",
       "      <td>63896</td>\n",
       "      <td>86.08</td>\n",
       "      <td>39</td>\n",
       "      <td>518</td>\n",
       "      <td>0</td>\n",
       "      <td>1878</td>\n",
       "      <td>570</td>\n",
       "      <td>2</td>\n",
       "      <td>5</td>\n",
       "      <td>...</td>\n",
       "      <td>0</td>\n",
       "      <td>0</td>\n",
       "      <td>0</td>\n",
       "      <td>0</td>\n",
       "      <td>0</td>\n",
       "      <td>0</td>\n",
       "      <td>0</td>\n",
       "      <td>0</td>\n",
       "      <td>0</td>\n",
       "      <td>0</td>\n",
       "    </tr>\n",
       "  </tbody>\n",
       "</table>\n",
       "<p>5 rows × 39 columns</p>\n",
       "</div>"
      ],
      "text/plain": [
       "   disbursed_amount  asset_cost    ltv  branch_id  supplier_id  \\\n",
       "0             53478       63558  86.54         30         1345   \n",
       "1             55513       63163  89.45         30         1345   \n",
       "2             65282       84320  79.93         39         1566   \n",
       "3             46905       63896  76.58         39          518   \n",
       "4             51428       63896  86.08         39          518   \n",
       "\n",
       "   manufacturer_id  Current_pincode_ID  Date.of.Birth  Employment.Type  \\\n",
       "0                0                1351            551                2   \n",
       "1                0                1351            412                1   \n",
       "2                5                1880            286                2   \n",
       "3                0                1879            558                1   \n",
       "4                0                1878            570                2   \n",
       "\n",
       "   DisbursalDate       ...         SEC.CURRENT.BALANCE  SEC.SANCTIONED.AMOUNT  \\\n",
       "0              5       ...                           0                      0   \n",
       "1              4       ...                           0                      0   \n",
       "2              4       ...                           0                      0   \n",
       "3              4       ...                           0                      0   \n",
       "4              5       ...                           0                      0   \n",
       "\n",
       "   SEC.DISBURSED.AMOUNT  PRIMARY.INSTAL.AMT  SEC.INSTAL.AMT  \\\n",
       "0                     0                   0               0   \n",
       "1                     0                5605               0   \n",
       "2                     0                   0               0   \n",
       "3                     0                   0               0   \n",
       "4                     0                   0               0   \n",
       "\n",
       "   NEW.ACCTS.IN.LAST.SIX.MONTHS  DELINQUENT.ACCTS.IN.LAST.SIX.MONTHS  \\\n",
       "0                             0                                    0   \n",
       "1                             1                                    0   \n",
       "2                             0                                    0   \n",
       "3                             0                                    0   \n",
       "4                             0                                    0   \n",
       "\n",
       "   AVERAGE.ACCT.AGE  CREDIT.HISTORY.LENGTH  NO.OF_INQUIRIES  \n",
       "0                 0                      0                0  \n",
       "1                 8                     12                1  \n",
       "2                 0                      0                0  \n",
       "3                29                     29                0  \n",
       "4                 0                      0                0  \n",
       "\n",
       "[5 rows x 39 columns]"
      ]
     },
     "execution_count": 44,
     "metadata": {},
     "output_type": "execute_result"
    }
   ],
   "source": [
    "X_test.head()"
   ]
  },
  {
   "cell_type": "code",
   "execution_count": 45,
   "metadata": {},
   "outputs": [
    {
     "name": "stdout",
     "output_type": "stream",
     "text": [
      "[1 1 1 ... 0 0 0]\n",
      "112392\n",
      "54963\n"
     ]
    }
   ],
   "source": [
    "print(y_pred)\n",
    "print(len(y_pred))\n",
    "print(len([i for i in y_pred if i == 1]))"
   ]
  },
  {
   "cell_type": "code",
   "execution_count": 46,
   "metadata": {},
   "outputs": [
    {
     "name": "stdout",
     "output_type": "stream",
     "text": [
      "112392\n",
      "112392\n"
     ]
    }
   ],
   "source": [
    "print(len(y_pred))\n",
    "print(len(X_test))"
   ]
  },
  {
   "cell_type": "code",
   "execution_count": 47,
   "metadata": {},
   "outputs": [],
   "source": [
    "X_test = test\n",
    "X_test[\"loan_default\"] = y_pred"
   ]
  },
  {
   "cell_type": "code",
   "execution_count": 48,
   "metadata": {},
   "outputs": [],
   "source": [
    "X1 = X_test.drop(X_test.columns.to_series()[\"disbursed_amount\":\"NO.OF_INQUIRIES\"], axis=1)"
   ]
  },
  {
   "cell_type": "code",
   "execution_count": 49,
   "metadata": {},
   "outputs": [
    {
     "data": {
      "text/html": [
       "<div>\n",
       "<style scoped>\n",
       "    .dataframe tbody tr th:only-of-type {\n",
       "        vertical-align: middle;\n",
       "    }\n",
       "\n",
       "    .dataframe tbody tr th {\n",
       "        vertical-align: top;\n",
       "    }\n",
       "\n",
       "    .dataframe thead th {\n",
       "        text-align: right;\n",
       "    }\n",
       "</style>\n",
       "<table border=\"1\" class=\"dataframe\">\n",
       "  <thead>\n",
       "    <tr style=\"text-align: right;\">\n",
       "      <th></th>\n",
       "      <th>UniqueID</th>\n",
       "      <th>loan_default</th>\n",
       "    </tr>\n",
       "  </thead>\n",
       "  <tbody>\n",
       "    <tr>\n",
       "      <th>0</th>\n",
       "      <td>655269</td>\n",
       "      <td>1</td>\n",
       "    </tr>\n",
       "    <tr>\n",
       "      <th>1</th>\n",
       "      <td>723482</td>\n",
       "      <td>1</td>\n",
       "    </tr>\n",
       "    <tr>\n",
       "      <th>2</th>\n",
       "      <td>758529</td>\n",
       "      <td>1</td>\n",
       "    </tr>\n",
       "    <tr>\n",
       "      <th>3</th>\n",
       "      <td>763449</td>\n",
       "      <td>0</td>\n",
       "    </tr>\n",
       "    <tr>\n",
       "      <th>4</th>\n",
       "      <td>708663</td>\n",
       "      <td>1</td>\n",
       "    </tr>\n",
       "  </tbody>\n",
       "</table>\n",
       "</div>"
      ],
      "text/plain": [
       "   UniqueID  loan_default\n",
       "0    655269             1\n",
       "1    723482             1\n",
       "2    758529             1\n",
       "3    763449             0\n",
       "4    708663             1"
      ]
     },
     "execution_count": 49,
     "metadata": {},
     "output_type": "execute_result"
    }
   ],
   "source": [
    "X1.head()"
   ]
  },
  {
   "cell_type": "code",
   "execution_count": 214,
   "metadata": {},
   "outputs": [],
   "source": [
    "X1.to_csv('results_Logistic.csv' , index=False)"
   ]
  },
  {
   "cell_type": "code",
   "execution_count": 215,
   "metadata": {},
   "outputs": [
    {
     "data": {
      "text/html": [
       "<div>\n",
       "<style scoped>\n",
       "    .dataframe tbody tr th:only-of-type {\n",
       "        vertical-align: middle;\n",
       "    }\n",
       "\n",
       "    .dataframe tbody tr th {\n",
       "        vertical-align: top;\n",
       "    }\n",
       "\n",
       "    .dataframe thead th {\n",
       "        text-align: right;\n",
       "    }\n",
       "</style>\n",
       "<table border=\"1\" class=\"dataframe\">\n",
       "  <thead>\n",
       "    <tr style=\"text-align: right;\">\n",
       "      <th></th>\n",
       "      <th>UniqueID</th>\n",
       "      <th>loan_default</th>\n",
       "    </tr>\n",
       "  </thead>\n",
       "  <tbody>\n",
       "    <tr>\n",
       "      <th>0</th>\n",
       "      <td>655269</td>\n",
       "      <td>1</td>\n",
       "    </tr>\n",
       "    <tr>\n",
       "      <th>1</th>\n",
       "      <td>723482</td>\n",
       "      <td>1</td>\n",
       "    </tr>\n",
       "    <tr>\n",
       "      <th>2</th>\n",
       "      <td>758529</td>\n",
       "      <td>1</td>\n",
       "    </tr>\n",
       "    <tr>\n",
       "      <th>3</th>\n",
       "      <td>763449</td>\n",
       "      <td>0</td>\n",
       "    </tr>\n",
       "    <tr>\n",
       "      <th>4</th>\n",
       "      <td>708663</td>\n",
       "      <td>1</td>\n",
       "    </tr>\n",
       "  </tbody>\n",
       "</table>\n",
       "</div>"
      ],
      "text/plain": [
       "   UniqueID  loan_default\n",
       "0    655269             1\n",
       "1    723482             1\n",
       "2    758529             1\n",
       "3    763449             0\n",
       "4    708663             1"
      ]
     },
     "execution_count": 215,
     "metadata": {},
     "output_type": "execute_result"
    }
   ],
   "source": [
    "X1.head()"
   ]
  },
  {
   "cell_type": "code",
   "execution_count": null,
   "metadata": {},
   "outputs": [],
   "source": []
  },
  {
   "cell_type": "code",
   "execution_count": null,
   "metadata": {},
   "outputs": [],
   "source": []
  }
 ],
 "metadata": {
  "kernelspec": {
   "display_name": "Python 3",
   "language": "python",
   "name": "python3"
  },
  "language_info": {
   "codemirror_mode": {
    "name": "ipython",
    "version": 3
   },
   "file_extension": ".py",
   "mimetype": "text/x-python",
   "name": "python",
   "nbconvert_exporter": "python",
   "pygments_lexer": "ipython3",
   "version": "3.6.6"
  }
 },
 "nbformat": 4,
 "nbformat_minor": 2
}
